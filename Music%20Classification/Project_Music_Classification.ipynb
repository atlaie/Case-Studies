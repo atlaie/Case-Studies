{
  "cells": [
    {
      "cell_type": "markdown",
      "metadata": {
        "id": "view-in-github",
        "colab_type": "text"
      },
      "source": [
        "<a href=\"https://colab.research.google.com/github/atlaie/Case-Studies/blob/main/Music%2520Classification/Project_Music_Classification.ipynb\" target=\"_parent\"><img src=\"https://colab.research.google.com/assets/colab-badge.svg\" alt=\"Open In Colab\"/></a>"
      ]
    },
    {
      "cell_type": "markdown",
      "metadata": {
        "id": "_GIN3zJNh_1b"
      },
      "source": [
        "# Music classification and generation with spectrograms\n",
        "\n",
        "* Alejandro Tlaie\n",
        "* Maria Royo\n",
        "* Carlos Vivar\n",
        "* Frank Sierra"
      ]
    },
    {
      "cell_type": "markdown",
      "metadata": {
        "id": "w3NPtGxih_1e"
      },
      "source": [
        "---\n",
        "## Setup"
      ]
    },
    {
      "cell_type": "code",
      "execution_count": 3,
      "metadata": {
        "cellView": "form",
        "colab": {
          "base_uri": "https://localhost:8080/"
        },
        "id": "yZ7OtO6Hh_1e",
        "outputId": "eaf0cafe-3602-40f2-973c-9faa89612367"
      },
      "outputs": [
        {
          "output_type": "stream",
          "name": "stdout",
          "text": [
            "Reading package lists...\n",
            "Building dependency tree...\n",
            "Reading state information...\n",
            "ffmpeg is already the newest version (7:4.2.7-0ubuntu0.1).\n",
            "0 upgraded, 0 newly installed, 0 to remove and 23 not upgraded.\n",
            "\u001b[2K     \u001b[90m━━━━━━━━━━━━━━━━━━━━━━━━━━━━━━━━━━━━━━━━\u001b[0m \u001b[32m2.0/2.0 MB\u001b[0m \u001b[31m67.4 MB/s\u001b[0m eta \u001b[36m0:00:00\u001b[0m\n",
            "\u001b[2K     \u001b[90m━━━━━━━━━━━━━━━━━━━━━━━━━━━━━━━━━━━━━━\u001b[0m \u001b[32m189.1/189.1 KB\u001b[0m \u001b[31m19.4 MB/s\u001b[0m eta \u001b[36m0:00:00\u001b[0m\n",
            "\u001b[2K     \u001b[90m━━━━━━━━━━━━━━━━━━━━━━━━━━━━━━━━━━━━━━\u001b[0m \u001b[32m184.3/184.3 KB\u001b[0m \u001b[31m20.5 MB/s\u001b[0m eta \u001b[36m0:00:00\u001b[0m\n",
            "\u001b[?25h  Preparing metadata (setup.py) ... \u001b[?25l\u001b[?25hdone\n",
            "\u001b[2K     \u001b[90m━━━━━━━━━━━━━━━━━━━━━━━━━━━━━━━━━━━━━━━━\u001b[0m \u001b[32m62.7/62.7 KB\u001b[0m \u001b[31m5.1 MB/s\u001b[0m eta \u001b[36m0:00:00\u001b[0m\n",
            "\u001b[?25h  Building wheel for pathtools (setup.py) ... \u001b[?25l\u001b[?25hdone\n",
            "\u001b[2K     \u001b[90m━━━━━━━━━━━━━━━━━━━━━━━━━━━━━━━━━━━━━━\u001b[0m \u001b[32m365.3/365.3 KB\u001b[0m \u001b[31m28.5 MB/s\u001b[0m eta \u001b[36m0:00:00\u001b[0m\n",
            "\u001b[2K     \u001b[90m━━━━━━━━━━━━━━━━━━━━━━━━━━━━━━━━━━━━━━\u001b[0m \u001b[32m212.2/212.2 KB\u001b[0m \u001b[31m22.5 MB/s\u001b[0m eta \u001b[36m0:00:00\u001b[0m\n",
            "\u001b[2K     \u001b[90m━━━━━━━━━━━━━━━━━━━━━━━━━━━━━━━━━━━━━━━━\u001b[0m \u001b[32m78.7/78.7 KB\u001b[0m \u001b[31m10.0 MB/s\u001b[0m eta \u001b[36m0:00:00\u001b[0m\n",
            "\u001b[?25h"
          ]
        }
      ],
      "source": [
        "# @title Install dependencies\n",
        "!sudo apt-get install -y ffmpeg --quiet\n",
        "!pip install librosa --quiet\n",
        "!pip install imageio --quiet\n",
        "!pip install imageio-ffmpeg --quiet\n",
        "!pip install wandb --quiet\n",
        "!pip install optuna --quiet"
      ]
    },
    {
      "cell_type": "code",
      "execution_count": 4,
      "metadata": {
        "id": "tyOsSgYOh_1f"
      },
      "outputs": [],
      "source": [
        "# Import necessary libraries.\n",
        "import os\n",
        "import glob\n",
        "import imageio\n",
        "import random, shutil\n",
        "import torch\n",
        "import torch.nn as nn\n",
        "from tqdm.notebook import tqdm\n",
        "import torch.nn.functional as F\n",
        "import torchvision.datasets as datasets\n",
        "import torchvision.transforms as transforms\n",
        "import numpy as np\n",
        "import matplotlib.pyplot as plt\n",
        "import IPython.display as display\n",
        "import librosa\n",
        "import librosa.display\n",
        "import optuna\n",
        "import wandb"
      ]
    },
    {
      "cell_type": "code",
      "execution_count": 5,
      "metadata": {
        "id": "Nb19dlChh_1g"
      },
      "outputs": [],
      "source": [
        "import requests\n",
        "\n",
        "fname = \"music.zip\"\n",
        "url = \"https://osf.io/drjhb/download\"\n",
        "\n",
        "if not os.path.isfile(fname):\n",
        "  try:\n",
        "    r = requests.get(url)\n",
        "  except requests.ConnectionError:\n",
        "    print(\"!!! Failed to download data !!!\")\n",
        "  else:\n",
        "    if r.status_code != requests.codes.ok:\n",
        "      print(\"!!! Failed to download data !!!\")\n",
        "    else:\n",
        "      with open(fname, \"wb\") as fid:\n",
        "        fid.write(r.content)"
      ]
    },
    {
      "cell_type": "code",
      "execution_count": 6,
      "metadata": {
        "id": "5fzZDbMvh_1h"
      },
      "outputs": [],
      "source": [
        "from zipfile import ZipFile\n",
        "\n",
        "with ZipFile(fname, 'r') as zipObj:\n",
        "  \n",
        "  # Extract all the contents of zip file in different directory\n",
        "  zipObj.extractall()"
      ]
    },
    {
      "cell_type": "code",
      "execution_count": 7,
      "metadata": {
        "colab": {
          "base_uri": "https://localhost:8080/",
          "height": 124
        },
        "id": "j8S90sX-a3w-",
        "outputId": "0afddd74-927a-4c28-f1d7-94869e200c73"
      },
      "outputs": [
        {
          "output_type": "display_data",
          "data": {
            "text/plain": [
              "<IPython.core.display.Javascript object>"
            ],
            "application/javascript": [
              "\n",
              "        window._wandbApiKey = new Promise((resolve, reject) => {\n",
              "            function loadScript(url) {\n",
              "            return new Promise(function(resolve, reject) {\n",
              "                let newScript = document.createElement(\"script\");\n",
              "                newScript.onerror = reject;\n",
              "                newScript.onload = resolve;\n",
              "                document.body.appendChild(newScript);\n",
              "                newScript.src = url;\n",
              "            });\n",
              "            }\n",
              "            loadScript(\"https://cdn.jsdelivr.net/npm/postmate/build/postmate.min.js\").then(() => {\n",
              "            const iframe = document.createElement('iframe')\n",
              "            iframe.style.cssText = \"width:0;height:0;border:none\"\n",
              "            document.body.appendChild(iframe)\n",
              "            const handshake = new Postmate({\n",
              "                container: iframe,\n",
              "                url: 'https://wandb.ai/authorize'\n",
              "            });\n",
              "            const timeout = setTimeout(() => reject(\"Couldn't auto authenticate\"), 5000)\n",
              "            handshake.then(function(child) {\n",
              "                child.on('authorize', data => {\n",
              "                    clearTimeout(timeout)\n",
              "                    resolve(data)\n",
              "                });\n",
              "            });\n",
              "            })\n",
              "        });\n",
              "    "
            ]
          },
          "metadata": {}
        },
        {
          "output_type": "stream",
          "name": "stderr",
          "text": [
            "\u001b[34m\u001b[1mwandb\u001b[0m: Logging into wandb.ai. (Learn how to deploy a W&B server locally: https://wandb.me/wandb-server)\n",
            "\u001b[34m\u001b[1mwandb\u001b[0m: You can find your API key in your browser here: https://wandb.ai/authorize\n",
            "wandb: Paste an API key from your profile and hit enter, or press ctrl+c to quit:"
          ]
        },
        {
          "name": "stdout",
          "output_type": "stream",
          "text": [
            " ··········\n"
          ]
        },
        {
          "output_type": "stream",
          "name": "stderr",
          "text": [
            "\u001b[34m\u001b[1mwandb\u001b[0m: Appending key for api.wandb.ai to your netrc file: /root/.netrc\n"
          ]
        },
        {
          "output_type": "execute_result",
          "data": {
            "text/plain": [
              "True"
            ]
          },
          "metadata": {},
          "execution_count": 7
        }
      ],
      "source": [
        "os.environ[\"WANDB_START_METHOD\"] = \"thread\"\n",
        "STUDY_NAME = \"winningKaggle\"\n",
        "wandb.login() #Only if you're not logged in."
      ]
    },
    {
      "cell_type": "markdown",
      "metadata": {
        "id": "PSS-ArBsStVn"
      },
      "source": [
        "## Sample minimum length"
      ]
    },
    {
      "cell_type": "code",
      "execution_count": 8,
      "metadata": {
        "id": "qWq72p0eSssx"
      },
      "outputs": [],
      "source": [
        "import glob\n",
        "\n",
        "lens = []\n",
        "samples = []\n",
        "for file in glob.glob('Data/genres_original/*/*.wav'):\n",
        "  if file != 'Data/genres_original/jazz/jazz.00054.wav':\n",
        "    y, sample_rate = librosa.load(file)\n",
        "    lens.append(np.shape(y)[0])\n",
        "    samples.append(sample_rate)\n",
        "\n",
        "minL = np.min(lens)"
      ]
    },
    {
      "cell_type": "markdown",
      "metadata": {
        "id": "31HTrnacqFJM"
      },
      "source": [
        "## Convert songs into spectrograms\n"
      ]
    },
    {
      "cell_type": "code",
      "execution_count": 9,
      "metadata": {
        "id": "ZhzWRW7RRjH5"
      },
      "outputs": [],
      "source": [
        "# Short-time Fourier transform (STFT). We have checked how changing each parameter (n_fft and hop_length; window size in which to \n",
        "# perform the transform and jump between windows, respectively) modify the spectrogram. The former shouldn't be changed for music\n",
        "# analyses, it's a standard window (93ms at 22050 Hz); may be interesting to change for other audio signals. The latter determines the\n",
        "# spectrogram resolution (inversely proportional). We've checked that massively reducing the hop (from 512 to 16) just increases the computation\n",
        "# time without actually yielding much improvement (we've also tried zooming in to check that's the case).\n",
        "\n",
        "def calc_spectrogram(audio, path, length, sr = 22050, dpi = 30):\n",
        "\n",
        "  #S = librosa.feature.melspectrogram(audio[:length], sr = sr, n_mels=323, hop_length=512*4)\n",
        "  S = librosa.feature.melspectrogram(y = audio[:length], sr = sr)\n",
        "  S_DB = librosa.amplitude_to_db(S, ref = np.max)\n",
        "  # np.save(path + '.npy', S_DB[np.newaxis])\n",
        "\n",
        "\n",
        "  fig, ax = plt.subplots(figsize = (15, 10))\n",
        "  fig.canvas.draw()\n",
        "\n",
        "  librosa.display.specshow(S_DB, sr = sr, hop_length = 512,\n",
        "                          x_axis='time',cmap='gray_r')\n",
        "  \n",
        "  \n",
        "  ax.set_axis_off()\n",
        "  plt.tight_layout()\n",
        "  plt.savefig(path + '.tif', dpi = dpi, bbox_inches = 'tight', pad_inches = 0.0)\n",
        "  # Clear the current axes.\n",
        "  plt.cla() \n",
        "  # Clear the current figure.\n",
        "  plt.clf() \n",
        "  # Closes all the figure windows.\n",
        "  plt.close('all')"
      ]
    },
    {
      "cell_type": "code",
      "execution_count": 10,
      "metadata": {
        "id": "_ylLrSLOUsW-"
      },
      "outputs": [],
      "source": [
        "import glob\n",
        "import os\n",
        "import librosa\n",
        "\n",
        "try:\n",
        "  os.mkdir('Data/spectrograms')\n",
        "except:\n",
        "  pass\n",
        "\n",
        "for file in glob.glob('Data/genres_original/*/*.wav'):\n",
        "  if file != 'Data/genres_original/jazz/jazz.00054.wav':\n",
        "    #print(file)\n",
        "    y, sample_rate = librosa.load(file)\n",
        "\n",
        "    basename = file.split('/')[-1]\n",
        "    genre = basename.split('.')[0]\n",
        "    sample = basename.split('.')[1]\n",
        "\n",
        "    try:\n",
        "      os.mkdir('Data/spectrograms/{}'.format(genre))\n",
        "    except:\n",
        "      pass\n",
        "\n",
        "    calc_spectrogram(y, 'Data/spectrograms/{}/{}{}'.format(genre,genre,sample), minL)"
      ]
    },
    {
      "cell_type": "code",
      "execution_count": null,
      "metadata": {
        "id": "8eNegflMi6Zu"
      },
      "outputs": [],
      "source": [
        "## Compress data\n",
        "#import shutil\n",
        "#shutil.make_archive('spectrograms_grayscale', 'zip', 'Data/spectrograms')"
      ]
    },
    {
      "cell_type": "markdown",
      "metadata": {
        "id": "qaZytiePh_1j"
      },
      "source": [
        "## Train a CNN with optuna"
      ]
    },
    {
      "cell_type": "code",
      "execution_count": 11,
      "metadata": {
        "cellView": "form",
        "id": "aZKPIi8Oh_1j"
      },
      "outputs": [],
      "source": [
        "# @title Helper functions (run me)\n",
        "\n",
        "def set_device():\n",
        "  device = \"cuda\" if torch.cuda.is_available() else \"cpu\"\n",
        "  if device != \"cuda\":\n",
        "      print(\"WARNING: For this notebook to perform best, \"\n",
        "          \"if possible, in the menu under `Runtime` -> \"\n",
        "          \"`Change runtime type.`  select `GPU` \")\n",
        "  else:\n",
        "      print(\"GPU is enabled in this notebook.\")\n",
        "\n",
        "  return device\n",
        "\n",
        "\n",
        "#  Plotting function.\n",
        "\n",
        "def plot_loss_accuracy(train_loss, train_acc, validation_loss, validation_acc):\n",
        "  train_loss = [t.tolist() for t in train_loss]\n",
        "  epochs = len(train_loss)\n",
        "  fig, (ax1, ax2) = plt.subplots(1, 2)\n",
        "  ax1.plot(list(range(epochs)), train_loss, label='Training Loss')\n",
        "  ax1.plot(list(range(epochs)), validation_loss, label='Validation Loss')\n",
        "  ax1.set_xlabel('Epochs')\n",
        "  ax1.set_ylabel('Loss')\n",
        "  ax1.set_title('Epoch vs Loss')\n",
        "  ax1.legend()\n",
        "\n",
        "  ax2.plot(list(range(epochs)), train_acc, label='Training Accuracy')\n",
        "  ax2.plot(list(range(epochs)), validation_acc, label='Validation Accuracy')\n",
        "  ax2.set_xlabel('Epochs')\n",
        "  ax2.set_ylabel('Accuracy')\n",
        "  ax2.set_title('Epoch vs Accuracy')\n",
        "  ax2.legend()\n",
        "  fig.set_size_inches(15.5, 5.5)\n",
        "  plt.show()"
      ]
    },
    {
      "cell_type": "code",
      "execution_count": 12,
      "metadata": {
        "id": "PPB8M0bih_1j",
        "colab": {
          "base_uri": "https://localhost:8080/"
        },
        "outputId": "76d17e53-ed50-407b-ed50-90f38433f92e"
      },
      "outputs": [
        {
          "output_type": "stream",
          "name": "stdout",
          "text": [
            "GPU is enabled in this notebook.\n"
          ]
        }
      ],
      "source": [
        "device = set_device()"
      ]
    },
    {
      "cell_type": "code",
      "execution_count": 13,
      "metadata": {
        "id": "Hd-3Rh8gh_1j"
      },
      "outputs": [],
      "source": [
        "# Create folder with training, testing and validation data.\n",
        "\n",
        "spectrograms_dir = \"Data/spectrograms/\"\n",
        "folder_names = ['Data/train/', 'Data/test/', 'Data/val/']\n",
        "train_dir = folder_names[0]\n",
        "test_dir = folder_names[1]\n",
        "val_dir = folder_names[2]\n",
        "\n",
        "for f in folder_names:\n",
        "  if os.path.exists(f):\n",
        "    shutil.rmtree(f)\n",
        "    os.mkdir(f)\n",
        "  else:\n",
        "    os.mkdir(f)\n",
        "\n",
        "# Loop over all genres.\n",
        "\n",
        "genres = list(os.listdir(spectrograms_dir))\n",
        "for g in genres:\n",
        "  # find all images & split in train, test, and validation\n",
        "  src_file_paths= []\n",
        "  for im in glob.glob(os.path.join(spectrograms_dir, f'{g}',\"*.tif\"), recursive=True):\n",
        "    src_file_paths.append(im)\n",
        "  random.shuffle(src_file_paths)\n",
        "  test_files = src_file_paths[0:10]  #Aqui tenemos 10 de test,\n",
        "  val_files = src_file_paths[10:20]  #10 de validation\n",
        "  train_files = src_file_paths[20:]  #10 train\n",
        "\n",
        "  #  make destination folders for train and test images\n",
        "  for f in folder_names:\n",
        "    if not os.path.exists(os.path.join(f + f\"{g}\")):\n",
        "      os.mkdir(os.path.join(f + f\"{g}\"))\n",
        "\n",
        "  # copy training and testing images over\n",
        "  for f in train_files:\n",
        "    shutil.copy(f, os.path.join(os.path.join(train_dir + f\"{g}\") + '/',os.path.split(f)[1]))\n",
        "  for f in test_files:\n",
        "    shutil.copy(f, os.path.join(os.path.join(test_dir + f\"{g}\") + '/',os.path.split(f)[1]))\n",
        "  for f in val_files:\n",
        "    shutil.copy(f, os.path.join(os.path.join(val_dir + f\"{g}\") + '/',os.path.split(f)[1]))"
      ]
    },
    {
      "cell_type": "code",
      "execution_count": 14,
      "metadata": {
        "id": "9azyI6PISuiy"
      },
      "outputs": [],
      "source": [
        "# Data loading.\n",
        "\n",
        "train_dataset = datasets.ImageFolder(train_dir,transforms.Compose([transforms.ToTensor(), transforms.Grayscale()]))\n",
        "\n",
        "train_loader = torch.utils.data.DataLoader(train_dataset, batch_size = 25, shuffle = True, num_workers = 0)\n",
        "\n",
        "val_dataset = datasets.ImageFolder(val_dir,transforms.Compose([transforms.ToTensor(), transforms.Grayscale()]))\n",
        "\n",
        "val_loader = torch.utils.data.DataLoader(val_dataset, batch_size = 25, shuffle = True, num_workers = 0)"
      ]
    },
    {
      "cell_type": "code",
      "execution_count": null,
      "metadata": {
        "id": "M0rB6Brz1Opl"
      },
      "outputs": [],
      "source": [
        "import os\n",
        "import torch\n",
        "import torchvision\n",
        "import torch.nn as nn\n",
        "import torch.nn.functional as F\n",
        "import torch.optim as optim\n",
        "from optuna.trial import TrialState\n",
        "\n",
        "\n",
        "class musicNet(nn.Module):\n",
        "    \"\"\"CNN for the MNIST dataset of handwritten digits.\n",
        "    Attributes:\n",
        "        - convs (torch.nn.modules.container.ModuleList):   List with the convolutional layers\n",
        "        - conv2_drop (torch.nn.modules.dropout.Dropout2d): Dropout for conv layer 2\n",
        "        - out_feature (int):                               Size of flattened features\n",
        "        - fc1 (torch.nn.modules.linear.Linear):            Fully Connected layer 1\n",
        "        - fc2 (torch.nn.modules.linear.Linear):            Fully Connected layer 2\n",
        "        - p1 (float):                                      Dropout ratio for FC1\n",
        "    Methods:\n",
        "        - forward(x): Does forward propagation\n",
        "    \"\"\"\n",
        "    def __init__(self, trial, drop_conv2, drop_fc1):\n",
        "        \"\"\"Parameters:\n",
        "            - trial (optuna.trial._trial.Trial): Optuna trial\n",
        "            - num_conv_layers (int):             Number of convolutional layers\n",
        "            - num_filters (list):                Number of filters of conv layers\n",
        "            - num_neurons (int):                 Number of neurons of FC layers\n",
        "            - drop_conv2 (float):                Dropout ratio for conv layer 2\n",
        "            - drop_fc1 (float):                  Dropout ratio for FC1\n",
        "        \"\"\"\n",
        "\n",
        "        super(musicNet, self).__init__()\n",
        "\n",
        "        self.conv1 = nn.Conv2d(in_channels = 1, out_channels = 8, kernel_size = 3, stride = 2, padding = 1)\n",
        "        self.conv2 = nn.Conv2d(in_channels = 8, out_channels = 16, kernel_size = 3, stride = 2, padding = 1)\n",
        "        self.conv3 = nn.Conv2d(in_channels = 16, out_channels = 32, kernel_size = 3, stride = 1, padding = 1)\n",
        "        self.conv4 = nn.Conv2d(in_channels = 32, out_channels = 64, kernel_size = 3, stride = 1, padding = 1)\n",
        "        self.conv5 = nn.Conv2d(in_channels = 64, out_channels = 128, kernel_size = 3, stride = 1, padding = 1)\n",
        "\n",
        "        self.convs = [self.conv1, self.conv2, self.conv3, self.conv4, self.conv5]\n",
        "        self.fc1 = nn.Linear(in_features = 768, out_features = 64)\n",
        "        self.fc2 = nn.Linear(in_features = 64, out_features = 10)\n",
        "\n",
        "        self.batchnorm1 = nn.BatchNorm2d(num_features = 8)\n",
        "        self.batchnorm2 = nn.BatchNorm2d(num_features = 16)\n",
        "        self.batchnorm3 = nn.BatchNorm2d(num_features = 32)\n",
        "        self.batchnorm4 = nn.BatchNorm2d(num_features = 64)\n",
        "        self.batchnorm5 = nn.BatchNorm2d(num_features = 128)\n",
        "        self.batchNorms = [self.batchnorm1, self.batchnorm2, self.batchnorm3, self.batchnorm4, self.batchnorm5]\n",
        "\n",
        "        self.dropout = nn.Dropout(p = drop_fc1, inplace = False)\n",
        "        self.conv2_drop = nn.Dropout2d(p = drop_conv2)\n",
        "\n",
        "        # Initialize weights with the He initialization\n",
        "        for i in range(1, len(self.convs)):\n",
        "            nn.init.kaiming_normal_(self.convs[i].weight, nonlinearity='relu')\n",
        "            if self.convs[i].bias is not None:\n",
        "                nn.init.constant_(self.convs[i].bias, 0)\n",
        "        nn.init.kaiming_normal_(self.fc1.weight, nonlinearity='relu')\n",
        "        nn.init.kaiming_normal_(self.fc2.weight, nonlinearity='relu')\n",
        "\n",
        "    def forward(self, x):\n",
        "        \"\"\"Forward propagation.\n",
        "        Parameters:\n",
        "            - x (torch.Tensor): Input tensor of size [N,1,28,28]\n",
        "        Returns:\n",
        "            - (torch.Tensor): The output tensor after forward propagation [N,10]\n",
        "        \"\"\"\n",
        "        for i, conv_i in enumerate(self.convs):  # For each convolutional layer\n",
        "          # print(i)\n",
        "          if np.logical_and(i>0, i<len(self.convs)-1):  # Add dropout if layer 2\n",
        "              x = self.conv2_drop(F.relu(self.batchNorms[i](F.max_pool2d(conv_i(x), 2))))  # Conv_i, max-pooling, Batch Normalization, RelU, Dropout\n",
        "          else:\n",
        "              x = F.relu(self.batchNorms[i](F.max_pool2d(conv_i(x), 2)))                   # Conv_i, max-pooling, Batch Normalization, RelU\n",
        "\n",
        "        x = torch.flatten(x, 1)                                           # Flatten tensor\n",
        "        x = F.relu(self.fc1(x))                                    # FC1, RelU\n",
        "        # x = F.dropout(x, p = self.p1, training = self.training)  # Apply dropout after FC1 only when training\n",
        "        x = self.fc2(x)                                            # FC2, RelU\n",
        "\n",
        "        return F.log_softmax(x, dim=1)                       # log(softmax(x))\n",
        "\n",
        "\n",
        "def train(network, optimizer):\n",
        "    \"\"\"Trains the model.\n",
        "    Parameters:\n",
        "        - network (__main__.Net):              The CNN\n",
        "        - optimizer (torch.optim.<optimizer>): The optimizer for the CNN\n",
        "    Returns:\n",
        "        - mean loss\n",
        "        - training accuracy \n",
        "    \"\"\"\n",
        "    network.train()  # Set the module in training mode (only affects certain modules)\n",
        "    loss_list = []\n",
        "    correct = 0\n",
        "\n",
        "    for batch_i, (data, target) in enumerate(train_loader):  # For each batch\n",
        "        # Limit training data for faster computation\n",
        "        if batch_i * batch_size_train > number_of_train_examples:\n",
        "            break\n",
        "\n",
        "        optimizer.zero_grad()                                 # Clear gradients\n",
        "        output = network(data.to(device))                     # Forward propagation\n",
        "        loss = F.nll_loss(output, target.to(device))          # Compute loss (negative log likelihood: −log(y))\n",
        "        loss.backward()                                       # Compute gradients\n",
        "        optimizer.step()                                      # Update weights\n",
        "        # loss_list.append(loss.cpu().detach().numpy())\n",
        "\n",
        "        # Accuracy calculation\n",
        "        output = network(data.to(device))               # Forward propagation\n",
        "        pred = output.data.max(1, keepdim = True)[1]      # Find max value in each row, return indexes of max values\n",
        "        # print(data.shape, pred.shape, output.shape, target.shape)\n",
        "        correct += pred.eq(target.to(device).data.view_as(pred)).sum()  # Compute correct predictions\n",
        "        # print(batch_i)\n",
        "\n",
        "    accuracy_train = correct / len(train_loader.dataset)                                    \n",
        "    loss_return = F.nll_loss(output, target.to(device))          # Compute loss (negative log likelihood: −log(y))\n",
        "\n",
        "    return  accuracy_train, loss_return\n",
        "\n",
        "def test(network):\n",
        "    \"\"\"Tests the model.\n",
        "    Parameters:\n",
        "        - network (__main__.Net): The CNN\n",
        "    Returns:\n",
        "        - accuracy_test (torch.Tensor): The test accuracy\n",
        "        - loss_test \n",
        "    \"\"\"\n",
        "    network.eval()         # Set the module in evaluation mode (only affects certain modules)\n",
        "    correct = 0\n",
        "    with torch.no_grad():  # Disable gradient calculation (when you are sure that you will not call Tensor.backward())\n",
        "        loss_list = []\n",
        "        for batch_i, (data, target) in enumerate(val_loader):  # For each batch\n",
        "\n",
        "            # Limit testing data for faster computation\n",
        "            if batch_i * batch_size_test > number_of_test_examples:\n",
        "                break\n",
        "\n",
        "            output = network(data.to(device))               # Forward propagation\n",
        "            \n",
        "            pred = output.data.max(1, keepdim = True)[1]      # Find max value in each row, return indexes of max values\n",
        "            correct += pred.eq(target.to(device).data.view_as(pred)).sum()  # Compute correct predictions\n",
        "\n",
        "    accuracy_test = correct / len(val_loader.dataset)\n",
        "    loss_test = F.nll_loss(output, target.to(device))\n",
        "    return accuracy_test, loss_test#np.mean(loss_list)\n",
        "\n",
        "def objective(trial):\n",
        "    \"\"\"Objective function to be optimized by Optuna.\n",
        "    Hyperparameters chosen to be optimized: optimizer, learning rate,\n",
        "    dropout values, number of convolutional layers, number of filters of\n",
        "    convolutional layers, number of neurons of fully connected layers.\n",
        "    Inputs:\n",
        "        - trial (optuna.trial._trial.Trial): Optuna trial\n",
        "    Returns:\n",
        "        - accuracy(torch.Tensor): The test accuracy. Parameter to be maximized.\n",
        "    \"\"\"\n",
        "\n",
        "    # Define range of values to be tested for the hyperparameters\n",
        "    drop_conv2 = trial.suggest_float(\"drop_conv2\", 0.2, 0.35)        # Dropout for convolutional layer 2\n",
        "    drop_fc1 = trial.suggest_float(\"drop_fc1\", 0.2, 0.35)            # Dropout for FC1 layer\n",
        "\n",
        "    # Generate the model\n",
        "    model = musicNet(trial, drop_conv2,  drop_fc1).to(device)\n",
        "\n",
        "    # Generate the optimizers\n",
        "    optimizer_name = 'Adam'\n",
        "    lr = trial.suggest_float(\"lr\", 1e-5, 1e-2, log=True)                                                     # Learning rates\n",
        "    weight_decay = trial.suggest_float(\"weight_decay\", 1e-4, 1e-1, log=True)                                 # L2 penalty\n",
        "    optimizer = getattr(optim, optimizer_name)(model.parameters(), lr = lr, weight_decay = weight_decay)\n",
        "\n",
        "    # init tracking experiment.\n",
        "    # hyper-parameters, trial id are stored.\n",
        "    config = dict(trial.params)\n",
        "    config[\"trial.number\"] = trial.number\n",
        "    wandb.init(\n",
        "        project=\"optuna_150epochs_100trials_smallOptimization_25072022\",\n",
        "        entity=\"nma_schnitzer\",  # NOTE: this entity depends on your wandb account.\n",
        "        config=config,\n",
        "        group=STUDY_NAME,\n",
        "        reinit=True,\n",
        "    )\n",
        "\n",
        "    # Training of the model\n",
        "    for epoch in range(n_epochs):\n",
        "        train_accuracy, train_loss = train(model, optimizer)  # Train the model\n",
        "        val_accuracy, val_loss = test(model)   # Evaluate the model\n",
        "\n",
        "        # For pruning (stops trial early if not promising)\n",
        "        trial.report(val_accuracy, epoch)\n",
        "\n",
        "        # report validation accuracy to wandb\n",
        "        wandb.log(data={\"validation accuracy\": val_accuracy,\n",
        "                        \"validation loss\": val_loss,\n",
        "                        \"training accuracy\": train_accuracy,\n",
        "                        \"training loss\": train_loss}, step=epoch)\n",
        "\n",
        "        # Handle pruning based on the intermediate value.\n",
        "        if trial.should_prune():\n",
        "            raise optuna.exceptions.TrialPruned()\n",
        "\n",
        "\n",
        "    # report the final validation accuracy to wandb\n",
        "    wandb.run.summary[\"final accuracy\"] = val_accuracy\n",
        "    wandb.run.summary[\"state\"] = \"completed\"\n",
        "    wandb.finish(quiet=True)\n",
        "\n",
        "    return val_accuracy\n",
        "\n",
        "\n",
        "if __name__ == '__main__':\n",
        "\n",
        "    # -------------------------------------------------------------------------\n",
        "    # Optimization study for a PyTorch CNN with Optuna\n",
        "    # -------------------------------------------------------------------------\n",
        "\n",
        "    # Use cuda if available for faster computations\n",
        "    device = torch.device(\"cuda\" if torch.cuda.is_available() else \"cpu\")\n",
        "\n",
        "    # --- Parameters ----------------------------------------------------------\n",
        "    n_epochs = 150                          # Number of training epochs\n",
        "    batch_size_train = 25                  # Batch size for training data\n",
        "    batch_size_test = 25                   # Batch size for testing data\n",
        "    number_of_trials = 100                 # Number of Optuna trials\n",
        "    limit_obs = True                       # Limit number of observations for faster computation\n",
        "\n",
        "    # *** Note: For more accurate results, do not limit the observations.\n",
        "    #           If not limited, however, it might take a very long time to run.\n",
        "    #           Another option is to limit the number of epochs. ***\n",
        "\n",
        "    if limit_obs:  # Limit number of observations\n",
        "        number_of_train_examples = 50 * batch_size_train  # Max train observations\n",
        "        number_of_test_examples = 5 * batch_size_test      # Max test observations\n",
        "    else:\n",
        "        number_of_train_examples = 60000                   # Max train observations\n",
        "        number_of_test_examples = 10000                    # Max test observations\n",
        "    # -------------------------------------------------------------------------\n",
        "\n",
        "    # Make runs repeatable\n",
        "    random_seed = 1\n",
        "    torch.backends.cudnn.enabled = False  # Disable cuDNN use of nondeterministic algorithms\n",
        "    torch.manual_seed(random_seed)\n",
        "\n",
        "    # Create directory 'files', if it doesn't exist, to save the dataset\n",
        "    directory_name = 'files'\n",
        "    if not os.path.exists(directory_name):\n",
        "        os.mkdir(directory_name)\n",
        "\n",
        "  # Data loading.\n",
        "\n",
        "    train_dataset = datasets.ImageFolder(train_dir,transforms.Compose([transforms.ToTensor(), transforms.Grayscale()]))\n",
        "    train_loader = torch.utils.data.DataLoader(train_dataset, batch_size = batch_size_train, shuffle = True, num_workers = 0)\n",
        "    val_dataset = datasets.ImageFolder(val_dir,transforms.Compose([transforms.ToTensor(), transforms.Grayscale()]))\n",
        "    val_loader = torch.utils.data.DataLoader(val_dataset, batch_size = batch_size_train, shuffle = True, num_workers = 0)\n",
        "    test_dataset = datasets.ImageFolder(test_dir,transforms.Compose([transforms.ToTensor(), transforms.Grayscale()]))\n",
        "    test_loader = torch.utils.data.DataLoader(test_dataset, batch_size = batch_size_test, shuffle = True, num_workers = 0)\n",
        "\n",
        "\n",
        "\n",
        "    # Create an Optuna study to maximize test accuracy\n",
        "    study = optuna.create_study(direction = \"maximize\")\n",
        "    study.optimize(objective, n_trials = number_of_trials)\n",
        "\n",
        "    # -------------------------------------------------------------------------\n",
        "    # Results\n",
        "    # -------------------------------------------------------------------------\n",
        "\n",
        "    # Find number of pruned and completed trials\n",
        "    pruned_trials = study.get_trials(deepcopy = False, states = [TrialState.PRUNED])\n",
        "    complete_trials = study.get_trials(deepcopy = False, states = [TrialState.COMPLETE])\n",
        "\n",
        "    # Display the study statistics\n",
        "    print(\"\\nStudy statistics: \")\n",
        "    print(\"  Number of finished trials: \", len(study.trials))\n",
        "    print(\"  Number of pruned trials: \", len(pruned_trials))\n",
        "    print(\"  Number of complete trials: \", len(complete_trials))\n",
        "\n",
        "    trial = study.best_trial\n",
        "    print(\"Best trial:\")\n",
        "    print(\"  Value: \", trial.value)\n",
        "    print(\"  Params: \")\n",
        "    for key, value in trial.params.items():\n",
        "        print(\"    {}: {}\".format(key, value))\n",
        "\n",
        "    # Save results to csv file\n",
        "    df = study.trials_dataframe().drop(['datetime_start', 'datetime_complete', 'duration'], axis=1)  # Exclude columns\n",
        "    df = df.loc[df['state'] == 'COMPLETE']          # Keep only results that did not prune\n",
        "    df = df.drop('state', axis=1)                   # Exclude state column\n",
        "    df = df.sort_values('value')                    # Sort based on accuracy\n",
        "    # df.to_csv('optuna_results.csv', index=False)  # Save to csv file\n",
        "\n",
        "    # Display results in a dataframe\n",
        "    print(\"\\nOverall Results (ordered by accuracy):\\n {}\".format(df))\n",
        "\n",
        "    # Find the most important hyperparameters\n",
        "    most_important_parameters = optuna.importance.get_param_importances(study, target=None)\n",
        "\n",
        "    # Display the most important hyperparameters\n",
        "    print('\\nMost important hyperparameters:')\n",
        "    for key, value in most_important_parameters.items():\n",
        "        print('  {}:{}{:.2f}%'.format(key, (15-len(key))*' ', value*100))"
      ]
    },
    {
      "cell_type": "markdown",
      "metadata": {
        "id": "wtCk8zgM0qrM"
      },
      "source": [
        "## Results visualization\n",
        "\n",
        "Here, I show the top-100 runs (sorted by validation accuracy) pooled together. \n",
        "Each run is a different hyperparameter optimization run (based on Optuna: https://optuna.org/), thus converging to slightly different solutions.\n",
        "\n",
        "As can be seen, the validation accuracy is 52±4.2%. Given that there are 10 different categories (music genres) to be predicted and that they are almost completely balanced, random predictions would yield a 10% accuracy. Thus, we greatly outperform the random (and majority class) model."
      ]
    },
    {
      "cell_type": "code",
      "source": [
        "import matplotlib.image as mpimg\n",
        "import seaborn as sns\n",
        "\n",
        "images = []\n",
        "images.append(mpimg.imread('/content/Training_accuracy.png'))\n",
        "images.append(mpimg.imread('/content/Validation_accuracy.png'))\n",
        "plt.figure(figsize=(10,10))\n",
        "columns = len(images)\n",
        "for i, image in enumerate(images):\n",
        "    plt.subplot(int(len(images) / columns + 1), columns, i + 1)\n",
        "    plt.imshow(image)\n",
        "    plt.xticks([])\n",
        "    plt.yticks([])\n",
        "    \n",
        "sns.despine(left = True, bottom = True)\n",
        "plt.tight_layout()\n"
      ],
      "metadata": {
        "colab": {
          "base_uri": "https://localhost:8080/",
          "height": 375
        },
        "id": "aXo5we-7GN0R",
        "outputId": "da65e637-bddb-42fb-8bc2-09a203443f21"
      },
      "execution_count": 35,
      "outputs": [
        {
          "output_type": "display_data",
          "data": {
            "text/plain": [
              "<Figure size 720x720 with 2 Axes>"
            ],
            "image/png": "[encoded data removed]"
          },
          "metadata": {}
        }
      ]
    }
  ],
  "metadata": {
    "accelerator": "GPU",
    "colab": {
      "provenance": [],
      "include_colab_link": true
    },
    "gpuClass": "standard",
    "kernel": {
      "display_name": "Python 3",
      "language": "python",
      "name": "python3"
    },
    "kernelspec": {
      "display_name": "Python 3",
      "name": "python3"
    },
    "language_info": {
      "name": "python"
    }
  },
  "nbformat": 4,
  "nbformat_minor": 0
}